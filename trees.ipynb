{
 "cells": [
  {
   "cell_type": "code",
   "execution_count": 66,
   "metadata": {
    "collapsed": true
   },
   "outputs": [
    {
     "name": "stdout",
     "output_type": "stream",
     "text": [
      "getting data\n300\ndata processed: length = 600\ngetting data\n600\ndata processed: length = 900\ngetting data\n900\ndata processed: length = 1200\ngetting data\n1200\ndata processed: length = 1500\ngetting data\n1500\ndata processed: length = 1800\ngetting data\n1800\ndata processed: length = 2100\ngetting data\n3721\ndata processed: length = 7442\ngetting data\n7442\ndata processed: length = 11163\ngetting data"
     ]
    },
    {
     "name": "stdout",
     "output_type": "stream",
     "text": [
      "\n11163\ndata processed: length = 14884\ngetting data\n14884\ndata processed: length = 18605\ngetting data\n18605\ndata processed: length = 22326\ngetting data\n22326\ndata processed: length = 26047\n"
     ]
    }
   ],
   "source": [
    "#from get_train_test_data import get_data\n",
    "import pandas as pd\n",
    "import numpy as np\n",
    "import sklearn as sk\n",
    "from matplotlib import pyplot as plt\n",
    "training = [r\"/1trn.SSV\", r\"/2trn.SSV\" , r\"/3trn.SSV\", r\"/4trn.SSV\", r\"/5trn.SSV\", r\"/6trn.SSV\", r\"/7trn.SSV\"]\n",
    "testing = [r\"/1tst.SSV\", r\"/2tst.SSV\" , r\"/3tst.SSV\", r\"/4tst.SSV\", r\"/5tst.SSV\", r\"/6tst.SSV\", r\"/7tst.SSV\"]\n",
    "master_train = get_data(training)\n",
    "master_test = get_data(testing)\n",
    "csv_path = \"C:/Users/edgil/Documents/Masters/machine_learning/Coursework/video_data\""
   ]
  },
  {
   "cell_type": "code",
   "execution_count": 71,
   "metadata": {},
   "outputs": [
    {
     "name": "stdout",
     "output_type": "stream",
     "text": [
      "25760\n25760\n"
     ]
    }
   ],
   "source": [
    "print(len(master_test))\n",
    "master_test = master_test.replace(253952,np.nan)\n",
    "master_test = master_test.dropna(axis = 0,how = \"any\")\n",
    "print(len(master_test))\n",
    "#print(mx.tail())"
   ]
  },
  {
   "cell_type": "code",
   "execution_count": 68,
   "metadata": {},
   "outputs": [],
   "source": [
    "new_col_names = [\"p1\", \"p2\",\"p3\", \"p4\",\"p5\",\"p6\",\"p7\",\"p8\",\"p9\",\"p10\",\"p11\",\"p12\",\"p13\",\"p14\",\"p15\",\"p16\",\"target\"]\n",
    "col_names = dict(zip(list(master_train.columns),new_col_names ))\n",
    "master_train.rename(columns = col_names, inplace=True)\n",
    "master_test.rename(columns = col_names, inplace=True)"
   ]
  },
  {
   "cell_type": "code",
   "execution_count": 69,
   "metadata": {},
   "outputs": [],
   "source": [
    "# set all the abnormal data as 1, lie in 16 column\n",
    "master_train.loc[master_train['target'] == 255,'target'] = 1\n",
    "master_test.loc[master_test['target'] == 255,'target'] = 1\n",
    "X_test = master_test.loc[:, master_test.columns != \"target\"] \n",
    "Y_test = pd.DataFrame(master_test['target'], columns = [\"target\"])\n",
    "X = master_train.loc[:, master_train.columns != \"target\"]\n",
    "Y = pd.DataFrame(master_train['target'], columns = [\"target\"])\n",
    "# isolate the abnormal data\n",
    "abnormal_sample = master_train[master_train['target'] == 1]\n",
    "normal_sample = master_train[master_train['target'] == 0]\n",
    "#print(train_data.head())"
   ]
  },
  {
   "cell_type": "code",
   "execution_count": 72,
   "metadata": {},
   "outputs": [],
   "source": [
    "# Standardise the data using sklearn\n",
    "from sklearn import preprocessing\n",
    "# transform X vector into mean 0 and variance 1\n",
    "X_norm = pd.DataFrame(preprocessing.scale(X), columns = list(X.columns))\n",
    "# Should we normalise the test set using the test data?\n",
    "# We also want to run LOOCV on the data\n",
    "X_test_norm = pd.DataFrame(preprocessing.scale(X_test), columns = list(X_test.columns))"
   ]
  },
  {
   "cell_type": "code",
   "execution_count": 34,
   "metadata": {},
   "outputs": [
    {
     "name": "stderr",
     "output_type": "stream",
     "text": [
      "C:\\Users\\edgil\\AppData\\Local\\Programs\\Python\\Python36\\lib\\site-packages\\matplotlib\\cbook\\deprecation.py:106: MatplotlibDeprecationWarning: Adding an axes using the same arguments as a previous axes currently reuses the earlier instance.  In a future version, a new instance will always be created and returned.  Meanwhile, this warning can be suppressed, and the future behavior ensured, by passing a unique label to each axes instance.\n  warnings.warn(message, mplDeprecation, stacklevel=1)\n"
     ]
    },
    {
     "data": {
      "image/png": "[encoded data removed]",
      "text/plain": [
       "<matplotlib.figure.Figure at 0x11d52d10>"
      ]
     },
     "metadata": {},
     "output_type": "display_data"
    },
    {
     "name": "stderr",
     "output_type": "stream",
     "text": [
      "C:\\Users\\edgil\\AppData\\Local\\Programs\\Python\\Python36\\lib\\site-packages\\sklearn\\utils\\validation.py:761: DataConversionWarning: A column-vector y was passed when a 1d array was expected. Please change the shape of y to (n_samples, ), for example using ravel().\n  y = column_or_1d(y, warn=True)\n"
     ]
    },
    {
     "data": {
      "image/png": "[encoded data removed]",
      "text/plain": [
       "<matplotlib.figure.Figure at 0x11da9eb0>"
      ]
     },
     "metadata": {},
     "output_type": "display_data"
    }
   ],
   "source": [
    "fig = plt.figure(2, figsize=(9, 6))\n",
    "ax = fig.add_subplot(111)\n",
    "ax1 = fig.add_subplot(111)\n",
    "plt.bar([\"Normal\", \"Abnormal\"],Y['target'].value_counts())\n",
    "ax.set_xticklabels(['Abnormal Sample', 'Normal Sample'])#ax.get_figure().savefig(\"imbalanced_data.png\")\n",
    "plt.show()\n",
    "# Now we have balanced data.\n",
    "from imblearn.over_sampling import SMOTE\n",
    "smt = SMOTE()\n",
    "X_train, y_train = smt.fit_sample(X_norm, Y)\n",
    "X_train = pd.DataFrame(X_train, columns = new_col_names[:-1])\n",
    "y_train = pd.DataFrame(y_train, columns= ['target'])\n",
    "plt.bar([\"Normal\", \"Abnormal\"],y_train['target'].value_counts())\n",
    "ax1.set_xticklabels(['Abnormal Sample', 'Normal Sample'])\n",
    "ax1.get_figure().savefig(\"LARGE_balanced_data.png\")\n",
    "plt.show()\n",
    "#print(y_train['target'].value_counts())"
   ]
  },
  {
   "cell_type": "code",
   "execution_count": 82,
   "metadata": {},
   "outputs": [
    {
     "name": "stdout",
     "output_type": "stream",
     "text": [
      "Total Variance explained using 5 principle components is : 0.9925081656551518\n"
     ]
    }
   ],
   "source": [
    "# Run PCA on the predictor variables\n",
    "from sklearn.decomposition import PCA\n",
    "X_test_pca = X_test_norm.dropna(axis = 0, how = \"any\")\n",
    "X_norm = X_train.dropna(axis = 0, how = \"any\")\n",
    "pca_data = PCA(n_components=5)\n",
    "# find the PCs\n",
    "pca = pca_data.fit_transform(X_norm)\n",
    "pca_test = pca_data.fit_transform(X_test_pca)\n",
    "principalDf = pd.DataFrame(data = pca\n",
    "             , columns = ['PC1', 'PC2', \"PC3\",\"PC4\",\"PC5\"])\n",
    "principalDf_test = pd.DataFrame(data = pca_test\n",
    "             , columns = ['PC1', 'PC2', \"PC3\",\"PC4\",\"PC5\"])\n",
    "PC_train = pd.concat([principalDf, y_train[['target']]], axis = 1)\n",
    "PC_test = pd.concat([principalDf_test, y_train[['target']]], axis = 1)\n",
    "# Find the variance explained within each PC\n",
    "var_exp = pca_data.explained_variance_ratio_\n",
    "print(\"Total Variance explained using 5 principle components is : %s\" % sum(var_exp))"
   ]
  },
  {
   "cell_type": "code",
   "execution_count": 83,
   "metadata": {},
   "outputs": [
    {
     "data": {
      "text/plain": [
       "(25760, 5)"
      ]
     },
     "execution_count": 83,
     "metadata": {},
     "output_type": "execute_result"
    }
   ],
   "source": [
    "principalDf_test.shape"
   ]
  },
  {
   "cell_type": "code",
   "execution_count": 38,
   "metadata": {},
   "outputs": [
    {
     "data": {
      "image/png": "[encoded data removed]",
      "text/plain": [
       "<matplotlib.figure.Figure at 0x119c090>"
      ]
     },
     "metadata": {},
     "output_type": "display_data"
    }
   ],
   "source": [
    "import matplotlib.pyplot as plt\n",
    "fig = plt.figure(1, figsize=(9, 6))\n",
    "ax = fig.add_subplot(111)\n",
    "ax.bar(['1st PC', '2nd PC', \"3rd PC\", \"4th PC\", \"5th PC\"],var_exp[:5])\n",
    "ax.set_xticklabels(['1st PC', '2nd PC', \"3rd PC\",\"4th PC\", \"5th PC\"])\n",
    "vals = ax.get_yticks()\n",
    "ax.set_yticklabels(['{:3.0f}%'.format(x*100) for x in vals])\n",
    "fig = ax.get_figure()\n",
    "fig.savefig(\"varianeExpTrn1.png\")"
   ]
  },
  {
   "cell_type": "code",
   "execution_count": 95,
   "metadata": {},
   "outputs": [
    {
     "name": "stderr",
     "output_type": "stream",
     "text": [
      "C:\\Users\\edgil\\AppData\\Local\\Programs\\Python\\Python36\\lib\\site-packages\\ipykernel_launcher.py:12: DataConversionWarning: A column-vector y was passed when a 1d array was expected. Please change the shape of y to (n_samples,), for example using ravel().\n  if sys.path[0] == '':\n"
     ]
    },
    {
     "name": "stdout",
     "output_type": "stream",
     "text": [
      "Feature ranking:\n1. feature 0 (0.315995)\n2. feature 4 (0.201481)\n3. feature 3 (0.171377)\n4. feature 1 (0.169629)\n5. feature 2 (0.141517)\n"
     ]
    },
    {
     "data": {
      "image/png": "[encoded data removed]",
      "text/plain": [
       "<matplotlib.figure.Figure at 0x4e9c330>"
      ]
     },
     "metadata": {},
     "output_type": "display_data"
    }
   ],
   "source": [
    "# Decision trees\n",
    "from sklearn import tree\n",
    "from sklearn.ensemble import RandomForestClassifier\n",
    "from sklearn import metrics\n",
    "#import graphviz\n",
    "import os\n",
    "#os.environ[\"PATH\"] += os.pathsep + 'D:/Program Files (x86)/Graphviz2.38/bin/'\n",
    "X_test, Y_test = principalDf_test, Y_test # we need to change the X_test to pca version if using that (X_test_norm,principalDf_test\n",
    "X , Y = principalDf, y_train # set X_train = principalDf\n",
    "#### This is where we choose and set up the models!\n",
    "RF = RandomForestClassifier(n_estimators=150,max_features=2)\n",
    "RF.fit(X, Y)\n",
    "clf = tree.DecisionTreeClassifier()\n",
    "clf = clf.fit(X, Y)\n",
    "#### DT Feature Imp\n",
    "importances = clf.feature_importances_\n",
    "indices = np.argsort(importances)[::-1]\n",
    "# Print the feature ranking\n",
    "print(\"Feature ranking:\")\n",
    "\n",
    "for f in range(X.shape[1]):\n",
    "    print(\"%d. feature %d (%f)\" % (f + 1, indices[f], importances[indices[f]]))\n",
    "\n",
    "# Plot the feature importances of the forest\n",
    "plt.figure()\n",
    "plt.title(\"Feature importances\")\n",
    "plt.bar(range(X.shape[1]), importances[indices],\n",
    "       color=\"r\", align=\"center\")\n",
    "plt.xticks(range(X.shape[1]), indices)\n",
    "plt.xlim([-1, X.shape[1]])\n",
    "plt.show() "
   ]
  },
  {
   "cell_type": "code",
   "execution_count": 96,
   "metadata": {},
   "outputs": [
    {
     "name": "stdout",
     "output_type": "stream",
     "text": [
      "DT Accuracy: 0.7055124223602485\nRF Accuracy: 0.7687888198757764\n"
     ]
    }
   ],
   "source": [
    "y_pred = clf.predict(X_test)\n",
    "RF_y_pred = RF.predict(X_test)\n",
    "print(\"DT Accuracy:\", metrics.accuracy_score(Y_test, y_pred))\n",
    "print(\"RF Accuracy:\", metrics.accuracy_score(Y_test, RF_y_pred))"
   ]
  }
 ],
 "metadata": {
  "kernelspec": {
   "display_name": "Python 2",
   "language": "python",
   "name": "python2"
  },
  "language_info": {
   "codemirror_mode": {
    "name": "ipython",
    "version": 2
   },
   "file_extension": ".py",
   "mimetype": "text/x-python",
   "name": "python",
   "nbconvert_exporter": "python",
   "pygments_lexer": "ipython2",
   "version": "2.7.6"
  }
 },
 "nbformat": 4,
 "nbformat_minor": 0
}
